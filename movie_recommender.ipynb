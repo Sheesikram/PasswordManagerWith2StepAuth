{
 "cells": [
  {
   "cell_type": "markdown",
   "metadata": {},
   "source": [
    "# Simple Movie Recommendation System\n",
    "Using collaborative filtering with a basic similarity score"
   ]
  },
  {
   "cell_type": "code",
   "execution_count": null,
   "metadata": {},
   "source": [
    "from collections import defaultdict\n",
    "import math\n",
    "\n",
    "# Sample movie ratings data\n",
    "ratings = {\n",
    "    'Alice': {'Inception': 5, 'The Matrix': 4, 'Interstellar': 5, 'The Dark Knight': 4},\n",
    "    'Bob': {'Inception': 3, 'The Matrix': 5, 'The Dark Knight': 5},\n",
    "    'Charlie': {'Inception': 4, 'The Matrix': 4, 'Interstellar': 3, 'The Dark Knight': 2},\n",
    "    'David': {'The Matrix': 3, 'Interstellar': 5, 'The Dark Knight': 4},\n",
    "    'Eve': {'Inception': 5, 'Interstellar': 4, 'The Dark Knight': 5}\n",
    "}"
   ]
  },
  {
   "cell_type": "code",
   "execution_count": null,
   "metadata": {},
   "source": [
    "def calculate_similarity(user1, user2):\n",
    "    \"\"\"Calculate similarity between two users using cosine similarity\"\"\"\n",
    "    common_movies = set(ratings[user1].keys()) & set(ratings[user2].keys())\n",
    "    if not common_movies:\n",
    "        return 0\n",
    "    \n",
    "    # Calculate dot product\n",
    "    dot_product = sum(ratings[user1][movie] * ratings[user2][movie] for movie in common_movies)\n",
    "    \n",
    "    # Calculate magnitudes\n",
    "    magnitude1 = math.sqrt(sum(ratings[user1][movie]**2 for movie in common_movies))\n",
    "    magnitude2 = math.sqrt(sum(ratings[user2][movie]**2 for movie in common_movies))\n",
    "    \n",
    "    if magnitude1 == 0 or magnitude2 == 0:\n",
    "        return 0\n",
    "        \n",
    "    return dot_product / (magnitude1 * magnitude2)"
   ]
  },
  {
   "cell_type": "code",
   "execution_count": null,
   "metadata": {},
   "source": [
    "def get_recommendations(user):\n",
    "    \"\"\"Get movie recommendations for a user\"\"\"\n",
    "    if user not in ratings:\n",
    "        return []\n",
    "    \n",
    "    # Calculate similarities with other users\n",
    "    similarities = {}\n",
    "    for other_user in ratings:\n",
    "        if other_user != user:\n",
    "            similarities[other_user] = calculate_similarity(user, other_user)\n",
    "    \n",
    "    # Get movies the user hasn't watched\n",
    "    user_movies = set(ratings[user].keys())\n",
    "    all_movies = set()\n",
    "    for user_ratings in ratings.values():\n",
    "        all_movies.update(user_ratings.keys())\n",
    "    unwatched_movies = all_movies - user_movies\n",
    "    \n",
    "    # Calculate predicted ratings\n",
    "    predictions = {}\n",
    "    for movie in unwatched_movies:\n",
    "        weighted_sum = 0\n",
    "        similarity_sum = 0\n",
    "        \n",
    "        for other_user in ratings:\n",
    "            if other_user != user and movie in ratings[other_user]:\n",
    "                similarity = similarities[other_user]\n",
    "                weighted_sum += similarity * ratings[other_user][movie]\n",
    "                similarity_sum += abs(similarity)\n",
    "        \n",
    "        if similarity_sum > 0:\n",
    "            predictions[movie] = weighted_sum / similarity_sum\n",
    "    \n",
    "    # Sort and return top recommendations\n",
    "    sorted_recommendations = sorted(predictions.items(), key=lambda x: x[1], reverse=True)\n",
    "    return sorted_recommendations"
   ]
  },
  {
   "cell_type": "code",
   "execution_count": null,
   "metadata": {},
   "source": [
    "# Test the recommendation system\n",
    "def print_recommendations(user):\n",
    "    print(f\"\\nRecommendations for {user}:\")\n",
    "    print(\"Currently rated movies:\")\n",
    "    for movie, rating in ratings[user].items():\n",
    "        print(f\"- {movie}: {rating}\")\n",
    "    \n",
    "    print(\"\\nRecommended movies:\")\n",
    "    recommendations = get_recommendations(user)\n",
    "    for movie, predicted_rating in recommendations:\n",
    "        print(f\"- {movie}: {predicted_rating:.2f}\")\n",
    "\n",
    "# Test for different users\n",
    "test_users = ['Alice', 'Bob', 'David']\n",
    "for user in test_users:\n",
    "    print_recommendations(user)"
   ]
  }
 ],
 "metadata": {
  "kernelspec": {
   "display_name": "Python 3",
   "language": "python",
   "name": "python3"
  },
  "language_info": {
   "codemirror_mode": {
    "name": "ipython",
    "version": 3
   },
   "file_extension": ".py",
   "mimetype": "text/x-python",
   "name": "python",
   "nbconvert_exporter": "python",
   "pygments_lexer": "ipython3",
   "version": "3.8.0"
  }
 },
 "nbformat": 4,
 "nbformat_minor": 4
}